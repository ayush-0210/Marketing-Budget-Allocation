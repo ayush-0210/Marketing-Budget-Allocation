{
 "cells": [
  {
   "cell_type": "markdown",
   "id": "2af24176",
   "metadata": {},
   "source": [
    "# Optimziation Project 1\n",
    "## Fall 2021\n",
    "### Authors: Alex Cooper(), Conoly Cravens (mcc4443), Anant Gupta (), Ayush Malani ()"
   ]
  },
  {
   "cell_type": "code",
   "execution_count": 3,
   "id": "0abaa99d",
   "metadata": {},
   "outputs": [],
   "source": [
    "import numpy as np\n",
    "import gurobipy as gp\n",
    "import pandas as pd"
   ]
  },
  {
   "cell_type": "code",
   "execution_count": 4,
   "id": "897bc031",
   "metadata": {},
   "outputs": [],
   "source": [
    "# Reading in CSV originally\n",
    "ROI = pd.read_csv('ROI_data.csv')  \n",
    "ROI.set_index('Platform',inplace=True)"
   ]
  },
  {
   "cell_type": "markdown",
   "id": "fa9ee76e",
   "metadata": {},
   "source": [
    "### Formulate the marketing budget allocation problem as a linear program.  Use gurobi to find the optimal budget allocation."
   ]
  },
  {
   "cell_type": "code",
   "execution_count": 5,
   "id": "6f67db7a",
   "metadata": {},
   "outputs": [],
   "source": [
    "## SETTING UP LP PROBLEM\n",
    "obj = np.array(list(ROI.iloc[0])) # objective vector\n",
    "A = np.zeros((13,10)) # initialize constraint matrix\n",
    "A[0:10,:] = np.diag(np.ones(10)) # the amount invested should be no more than $3M\n",
    "A[10,:] = [1] # total amount cannot exceed $10M\n",
    "A[11,:] = [1,1,0,0,-1,0,0,0,0,-1] #print and TV should be no more than the amount spent on Facebook and Email\n",
    "A[12,:] = [0,0,2,2,-1,-1,-1,-1,-1,0] #total amount used in social media should be at least twice of SEO and AdWords\n",
    "b = np.array([3,3,3,3,3,3,3,3,3,3,10,0,0]) \n",
    "sense = np.array(['<']*13) "
   ]
  },
  {
   "cell_type": "code",
   "execution_count": 6,
   "id": "9ceec8fe",
   "metadata": {},
   "outputs": [
    {
     "name": "stdout",
     "output_type": "stream",
     "text": [
      "Academic license - for non-commercial use only - expires 2022-09-15\n",
      "Using license file C:\\Users\\ayush\\gurobi.lic\n"
     ]
    }
   ],
   "source": [
    "## SETTING UP GUROBI MODEL\n",
    "aModel = gp.Model() # initialize an empty model\n",
    "\n",
    "aModX = aModel.addMVar(10) # tell the model how many variables there are\n",
    "# must define the variables before adding constraints because variables go into the constraints\n",
    "\n",
    "aModCon = aModel.addMConstrs(A, aModX, sense, b) # add the constraints to the model\n",
    "\n",
    "aModel.setMObjective(None,obj,0,sense=gp.GRB.MAXIMIZE) # add the objective to the model...\n",
    "\n",
    "aModel.Params.OutputFlag = 0 # tell gurobi to shut up!!"
   ]
  },
  {
   "cell_type": "code",
   "execution_count": 7,
   "id": "72d8b920",
   "metadata": {},
   "outputs": [],
   "source": [
    "aModel.optimize() # solve the LP"
   ]
  },
  {
   "cell_type": "code",
   "execution_count": 8,
   "id": "b37cf184",
   "metadata": {},
   "outputs": [
    {
     "name": "stdout",
     "output_type": "stream",
     "text": [
      "The maxiumum return using consulting firm 1 ROI estimates is 0.45600000000000007 (Million Dollars).\n"
     ]
    }
   ],
   "source": [
    "print('The maxiumum return using consulting firm 1 ROI estimates is', aModel.objVal, '(Million Dollars).')"
   ]
  },
  {
   "cell_type": "code",
   "execution_count": 9,
   "id": "c18422c8",
   "metadata": {},
   "outputs": [
    {
     "name": "stdout",
     "output_type": "stream",
     "text": [
      "Optimal Allocations:\n",
      "Note: all values in million dollars\n"
     ]
    },
    {
     "data": {
      "text/html": [
       "<div>\n",
       "<style scoped>\n",
       "    .dataframe tbody tr th:only-of-type {\n",
       "        vertical-align: middle;\n",
       "    }\n",
       "\n",
       "    .dataframe tbody tr th {\n",
       "        vertical-align: top;\n",
       "    }\n",
       "\n",
       "    .dataframe thead th {\n",
       "        text-align: right;\n",
       "    }\n",
       "</style>\n",
       "<table border=\"1\" class=\"dataframe\">\n",
       "  <thead>\n",
       "    <tr style=\"text-align: right;\">\n",
       "      <th></th>\n",
       "      <th>Print</th>\n",
       "      <th>TV</th>\n",
       "      <th>SEO</th>\n",
       "      <th>Adwords</th>\n",
       "      <th>Facebook</th>\n",
       "      <th>LinkedIn</th>\n",
       "      <th>Instagram</th>\n",
       "      <th>Snapchat</th>\n",
       "      <th>Twitter</th>\n",
       "      <th>Email</th>\n",
       "    </tr>\n",
       "  </thead>\n",
       "  <tbody>\n",
       "    <tr>\n",
       "      <th>Using Firm 1's estimations</th>\n",
       "      <td>0.0</td>\n",
       "      <td>3.0</td>\n",
       "      <td>0.0</td>\n",
       "      <td>1.0</td>\n",
       "      <td>0.0</td>\n",
       "      <td>0.0</td>\n",
       "      <td>3.0</td>\n",
       "      <td>0.0</td>\n",
       "      <td>0.0</td>\n",
       "      <td>3.0</td>\n",
       "    </tr>\n",
       "  </tbody>\n",
       "</table>\n",
       "</div>"
      ],
      "text/plain": [
       "                            Print   TV  SEO  Adwords  Facebook  LinkedIn  \\\n",
       "Using Firm 1's estimations    0.0  3.0  0.0      1.0       0.0       0.0   \n",
       "\n",
       "                            Instagram  Snapchat  Twitter  Email  \n",
       "Using Firm 1's estimations        3.0       0.0      0.0    3.0  "
      ]
     },
     "execution_count": 9,
     "metadata": {},
     "output_type": "execute_result"
    }
   ],
   "source": [
    "# Make allocations into DF for presentation\n",
    "parta = aModX.x \n",
    "results = pd.DataFrame(parta).T\n",
    "results.columns = ['Print','TV','SEO','Adwords','Facebook','LinkedIn','Instagram','Snapchat','Twitter','Email']\n",
    "results.index = [\"Using Firm 1's estimations\"]\n",
    "print('Optimal Allocations:')\n",
    "print('Note: all values in million dollars')\n",
    "results"
   ]
  },
  {
   "cell_type": "code",
   "execution_count": 35,
   "id": "a10c5dfa",
   "metadata": {},
   "outputs": [
    {
     "data": {
      "text/plain": [
       "<AxesSubplot:ylabel=\"Using Firm 1's estimations\">"
      ]
     },
     "execution_count": 35,
     "metadata": {},
     "output_type": "execute_result"
    },
    {
     "data": {
      "image/png": "[encoded data removed]",
      "text/plain": [
       "<Figure size 720x432 with 1 Axes>"
      ]
     },
     "metadata": {},
     "output_type": "display_data"
    }
   ],
   "source": [
    "# Add pie chart for visulalization\n",
    "results.T.plot.pie(y=\"Using Firm 1's estimations\",figsize=(10, 6))"
   ]
  },
  {
   "cell_type": "markdown",
   "id": "a368bd04",
   "metadata": {},
   "source": [
    "##### Check"
   ]
  },
  {
   "cell_type": "code",
   "execution_count": 11,
   "id": "a24da567",
   "metadata": {},
   "outputs": [],
   "source": [
    "printa = parta[0]\n",
    "TVa = parta[1]\n",
    "SEOa = parta[2]\n",
    "AWa = parta[3]\n",
    "FBa = parta[4]\n",
    "LIa = parta[5]\n",
    "IGa = parta[6]\n",
    "SCa = parta[7]\n",
    "TWa = parta[8]\n",
    "Ea = parta[9]"
   ]
  },
  {
   "cell_type": "code",
   "execution_count": 12,
   "id": "9a54cedb",
   "metadata": {},
   "outputs": [
    {
     "name": "stdout",
     "output_type": "stream",
     "text": [
      "Constraint: print and TV should be no more than the amount spent on Facebook and Email\n"
     ]
    },
    {
     "data": {
      "text/plain": [
       "True"
      ]
     },
     "execution_count": 12,
     "metadata": {},
     "output_type": "execute_result"
    }
   ],
   "source": [
    "print(\"Constraint: print and TV should be no more than the amount spent on Facebook and Email\")\n",
    "printa + TVa <= FBa + Ea"
   ]
  },
  {
   "cell_type": "code",
   "execution_count": 13,
   "id": "7c399881",
   "metadata": {},
   "outputs": [
    {
     "name": "stdout",
     "output_type": "stream",
     "text": [
      "Constraint: total amount used in social media should be at least twice of SEO and AdWords\n"
     ]
    },
    {
     "data": {
      "text/plain": [
       "True"
      ]
     },
     "execution_count": 13,
     "metadata": {},
     "output_type": "execute_result"
    }
   ],
   "source": [
    "print(\"Constraint: total amount used in social media should be at least twice of SEO and AdWords\")\n",
    "2*(SEOa + AWa)<= FBa + LIa + IGa+ SCa+TWa"
   ]
  },
  {
   "cell_type": "markdown",
   "id": "40597cd4",
   "metadata": {},
   "source": [
    "### Your boss is happy to see the promising results presented by the marketing department. However, your boss is also very concerned because your boss recalls being somewhat disappointed after following such recommendations in the past. To be cautious about the decision, your team has decided to get another opinion about the ROI data and rerun the analysis.  The second consulting firm returns the estimates of the ROI data in the table below (also in the CSV file mentioned above).  You are asked to compare the two optimal allocations from these two ROI estimates.  "
   ]
  },
  {
   "cell_type": "code",
   "execution_count": 14,
   "id": "dbf56778",
   "metadata": {},
   "outputs": [],
   "source": [
    "## SET UP SECOND LP PROBLEM\n",
    "obj2 = np.array(list(ROI.iloc[1])) # objective vector\n",
    "A2 = np.zeros((13,10)) # initialize constraint matrix\n",
    "A2[0:10,:] = np.diag(np.ones(10)) # the amount invested should be no more than $3M\n",
    "A2[10,:] = [1] # total amount cannot exceed $10M\n",
    "A2[11,:] = [1,1,0,0,-1,0,0,0,0,-1] #print and TV should be no more than the amount spent on Facebook and Email\n",
    "A2[12,:] = [0,0,2,2,-1,-1,-1,-1,-1,0] #total amount used in social media should be at least twice of SEO and AdWords\n",
    "b2 = np.array([3,3,3,3,3,3,3,3,3,3,10,0,0]) \n",
    "sense = np.array(['<']*13) "
   ]
  },
  {
   "cell_type": "code",
   "execution_count": 15,
   "id": "2a043c2b",
   "metadata": {},
   "outputs": [],
   "source": [
    "## SET UP GUROBI MODEL\n",
    "bModel = gp.Model() # initialize an empty model\n",
    "\n",
    "bModX = bModel.addMVar(10) # tell the model how many variables there are\n",
    "# must define the variables before adding constraints because variables go into the constraints\n",
    "\n",
    "bModCon = bModel.addMConstrs(A2, bModX, sense, b2) # add the constraints to the model\n",
    "\n",
    "bModel.setMObjective(None,obj2,0,sense=gp.GRB.MAXIMIZE) # add the objective to the model...\n",
    "\n",
    "bModel.Params.OutputFlag = 0 # tell gurobi to shut up!!"
   ]
  },
  {
   "cell_type": "code",
   "execution_count": 16,
   "id": "95eb87e7",
   "metadata": {},
   "outputs": [],
   "source": [
    "bModel.optimize() # solve the LP"
   ]
  },
  {
   "cell_type": "code",
   "execution_count": 17,
   "id": "01828edf",
   "metadata": {},
   "outputs": [
    {
     "name": "stdout",
     "output_type": "stream",
     "text": [
      "The maxiumum return using consulting firm 2 ROI estimates is 0.45600000000000007 (Million Dollars).\n"
     ]
    }
   ],
   "source": [
    "print('The maxiumum return using consulting firm 2 ROI estimates is', bModel.objVal, '(Million Dollars).')"
   ]
  },
  {
   "cell_type": "code",
   "execution_count": 18,
   "id": "54eedcc7",
   "metadata": {},
   "outputs": [
    {
     "name": "stdout",
     "output_type": "stream",
     "text": [
      "Optimal Allocations:\n",
      "Note: all values in million dollars\n"
     ]
    },
    {
     "data": {
      "text/html": [
       "<div>\n",
       "<style scoped>\n",
       "    .dataframe tbody tr th:only-of-type {\n",
       "        vertical-align: middle;\n",
       "    }\n",
       "\n",
       "    .dataframe tbody tr th {\n",
       "        vertical-align: top;\n",
       "    }\n",
       "\n",
       "    .dataframe thead th {\n",
       "        text-align: right;\n",
       "    }\n",
       "</style>\n",
       "<table border=\"1\" class=\"dataframe\">\n",
       "  <thead>\n",
       "    <tr style=\"text-align: right;\">\n",
       "      <th></th>\n",
       "      <th>Print</th>\n",
       "      <th>TV</th>\n",
       "      <th>SEO</th>\n",
       "      <th>Adwords</th>\n",
       "      <th>Facebook</th>\n",
       "      <th>LinkedIn</th>\n",
       "      <th>Instagram</th>\n",
       "      <th>Snapchat</th>\n",
       "      <th>Twitter</th>\n",
       "      <th>Email</th>\n",
       "    </tr>\n",
       "  </thead>\n",
       "  <tbody>\n",
       "    <tr>\n",
       "      <th>Using Firm 2's estimations</th>\n",
       "      <td>3.0</td>\n",
       "      <td>0.0</td>\n",
       "      <td>0.0</td>\n",
       "      <td>1.0</td>\n",
       "      <td>3.0</td>\n",
       "      <td>3.0</td>\n",
       "      <td>0.0</td>\n",
       "      <td>0.0</td>\n",
       "      <td>0.0</td>\n",
       "      <td>0.0</td>\n",
       "    </tr>\n",
       "  </tbody>\n",
       "</table>\n",
       "</div>"
      ],
      "text/plain": [
       "                            Print   TV  SEO  Adwords  Facebook  LinkedIn  \\\n",
       "Using Firm 2's estimations    3.0  0.0  0.0      1.0       3.0       3.0   \n",
       "\n",
       "                            Instagram  Snapchat  Twitter  Email  \n",
       "Using Firm 2's estimations        0.0       0.0      0.0    0.0  "
      ]
     },
     "execution_count": 18,
     "metadata": {},
     "output_type": "execute_result"
    }
   ],
   "source": [
    "# Make allocations into DF for presentation\n",
    "partb = bModX.x \n",
    "results2 = pd.DataFrame(partb).T\n",
    "results2.columns = ['Print','TV','SEO','Adwords','Facebook','LinkedIn','Instagram','Snapchat','Twitter','Email']\n",
    "results2.index = [\"Using Firm 2's estimations\"]\n",
    "print('Optimal Allocations:')\n",
    "print('Note: all values in million dollars')\n",
    "results2"
   ]
  },
  {
   "cell_type": "code",
   "execution_count": 19,
   "id": "715b343b",
   "metadata": {},
   "outputs": [
    {
     "data": {
      "text/plain": [
       "<AxesSubplot:ylabel=\"Using Firm 2's estimations\">"
      ]
     },
     "execution_count": 19,
     "metadata": {},
     "output_type": "execute_result"
    },
    {
     "data": {
      "image/png": "[encoded data removed]",
      "text/plain": [
       "<Figure size 360x360 with 1 Axes>"
      ]
     },
     "metadata": {},
     "output_type": "display_data"
    }
   ],
   "source": [
    "# Add pie chart for visulalization\n",
    "results2.T.plot.pie(y=\"Using Firm 2's estimations\",figsize=(5, 5))"
   ]
  },
  {
   "cell_type": "markdown",
   "id": "4071fff7",
   "metadata": {},
   "source": [
    "##### Check"
   ]
  },
  {
   "cell_type": "code",
   "execution_count": 20,
   "id": "8e7de10b",
   "metadata": {},
   "outputs": [],
   "source": [
    "printb = partb[0]\n",
    "TVb = partb[1]\n",
    "SEOb = partb[2]\n",
    "AWb = partb[3]\n",
    "FBb = partb[4]\n",
    "LIb = partb[5]\n",
    "IGb = partb[6]\n",
    "SCb = partb[7]\n",
    "TWb = partb[8]\n",
    "Eb = partb[9]"
   ]
  },
  {
   "cell_type": "code",
   "execution_count": 21,
   "id": "23ce789c",
   "metadata": {},
   "outputs": [
    {
     "name": "stdout",
     "output_type": "stream",
     "text": [
      "Constraint: print and TV should be no more than the amount spent on Facebook and Email\n"
     ]
    },
    {
     "data": {
      "text/plain": [
       "True"
      ]
     },
     "execution_count": 21,
     "metadata": {},
     "output_type": "execute_result"
    }
   ],
   "source": [
    "print(\"Constraint: print and TV should be no more than the amount spent on Facebook and Email\")\n",
    "printb + TVb <= FBb + Eb"
   ]
  },
  {
   "cell_type": "code",
   "execution_count": 22,
   "id": "c400b09d",
   "metadata": {},
   "outputs": [
    {
     "name": "stdout",
     "output_type": "stream",
     "text": [
      "Constraint: total amount used in social media should be at least twice of SEO and AdWords\n"
     ]
    },
    {
     "data": {
      "text/plain": [
       "True"
      ]
     },
     "execution_count": 22,
     "metadata": {},
     "output_type": "execute_result"
    }
   ],
   "source": [
    "print(\"Constraint: total amount used in social media should be at least twice of SEO and AdWords\")\n",
    "2*(SEOb + AWb)<= FBb + LIb + IGb+ SCb+TWb"
   ]
  },
  {
   "cell_type": "markdown",
   "id": "51eb1858",
   "metadata": {},
   "source": [
    "### Are the allocations the same?  Assuming the first ROI data is correct, if you were to use the second allocation (the allocation that assumed the second ROI data was correct) how much lower would the objective be relative to the optimal objective (the one that uses the first ROI data and the first allocation)?  Assuming the second ROI data is correct, if you used the first allocation how much lower would the objective be relative to the optimal objective?  Do you think the third constraint above, based on your boss’ experience, is useful?"
   ]
  },
  {
   "cell_type": "code",
   "execution_count": 23,
   "id": "283ecb5f",
   "metadata": {},
   "outputs": [
    {
     "name": "stdout",
     "output_type": "stream",
     "text": [
      "The optimal values for each cateogry are NOT the same:\n",
      "Note: all values in million dollars\n"
     ]
    },
    {
     "data": {
      "text/html": [
       "<div>\n",
       "<style scoped>\n",
       "    .dataframe tbody tr th:only-of-type {\n",
       "        vertical-align: middle;\n",
       "    }\n",
       "\n",
       "    .dataframe tbody tr th {\n",
       "        vertical-align: top;\n",
       "    }\n",
       "\n",
       "    .dataframe thead th {\n",
       "        text-align: right;\n",
       "    }\n",
       "</style>\n",
       "<table border=\"1\" class=\"dataframe\">\n",
       "  <thead>\n",
       "    <tr style=\"text-align: right;\">\n",
       "      <th></th>\n",
       "      <th>Using Firm A ROI</th>\n",
       "      <th>Using Firm B ROI</th>\n",
       "    </tr>\n",
       "    <tr>\n",
       "      <th>Category</th>\n",
       "      <th></th>\n",
       "      <th></th>\n",
       "    </tr>\n",
       "  </thead>\n",
       "  <tbody>\n",
       "    <tr>\n",
       "      <th>Print</th>\n",
       "      <td>0.0</td>\n",
       "      <td>3.0</td>\n",
       "    </tr>\n",
       "    <tr>\n",
       "      <th>TV</th>\n",
       "      <td>3.0</td>\n",
       "      <td>0.0</td>\n",
       "    </tr>\n",
       "    <tr>\n",
       "      <th>SEO</th>\n",
       "      <td>0.0</td>\n",
       "      <td>0.0</td>\n",
       "    </tr>\n",
       "    <tr>\n",
       "      <th>Adwords</th>\n",
       "      <td>1.0</td>\n",
       "      <td>1.0</td>\n",
       "    </tr>\n",
       "    <tr>\n",
       "      <th>Facebook</th>\n",
       "      <td>0.0</td>\n",
       "      <td>3.0</td>\n",
       "    </tr>\n",
       "    <tr>\n",
       "      <th>LinkedIn</th>\n",
       "      <td>0.0</td>\n",
       "      <td>3.0</td>\n",
       "    </tr>\n",
       "    <tr>\n",
       "      <th>Instagram</th>\n",
       "      <td>3.0</td>\n",
       "      <td>0.0</td>\n",
       "    </tr>\n",
       "    <tr>\n",
       "      <th>Snapchat</th>\n",
       "      <td>0.0</td>\n",
       "      <td>0.0</td>\n",
       "    </tr>\n",
       "    <tr>\n",
       "      <th>Twitter</th>\n",
       "      <td>0.0</td>\n",
       "      <td>0.0</td>\n",
       "    </tr>\n",
       "    <tr>\n",
       "      <th>Email</th>\n",
       "      <td>3.0</td>\n",
       "      <td>0.0</td>\n",
       "    </tr>\n",
       "  </tbody>\n",
       "</table>\n",
       "</div>"
      ],
      "text/plain": [
       "           Using Firm A ROI  Using Firm B ROI\n",
       "Category                                     \n",
       "Print                   0.0               3.0\n",
       "TV                      3.0               0.0\n",
       "SEO                     0.0               0.0\n",
       "Adwords                 1.0               1.0\n",
       "Facebook                0.0               3.0\n",
       "LinkedIn                0.0               3.0\n",
       "Instagram               3.0               0.0\n",
       "Snapchat                0.0               0.0\n",
       "Twitter                 0.0               0.0\n",
       "Email                   3.0               0.0"
      ]
     },
     "execution_count": 23,
     "metadata": {},
     "output_type": "execute_result"
    }
   ],
   "source": [
    "# Comparing allocation DFs\n",
    "optimalDF = pd.DataFrame({'Category': ['Print','TV','SEO','Adwords','Facebook','LinkedIn','Instagram','Snapchat','Twitter','Email'],\n",
    "              'Using Firm A ROI': parta,\n",
    "              'Using Firm B ROI': partb\n",
    "})\n",
    "optimalDF.set_index('Category',inplace=True)\n",
    "print('The optimal values for each cateogry are NOT the same:')\n",
    "print('Note: all values in million dollars')\n",
    "optimalDF"
   ]
  },
  {
   "cell_type": "code",
   "execution_count": 24,
   "id": "a4055c09",
   "metadata": {},
   "outputs": [
    {
     "name": "stdout",
     "output_type": "stream",
     "text": [
      "Assuming the first ROI data is correct but using the second allocation the objective would be -0.20400000000000007 (million $) lower than the optimal objective.\n"
     ]
    }
   ],
   "source": [
    "print('Assuming the first ROI data is correct but using the second allocation the objective would be',\n",
    "      sum(obj * partb) - aModel.objVal,'(million $) lower than the optimal objective.')"
   ]
  },
  {
   "cell_type": "code",
   "execution_count": 25,
   "id": "3bb7bfe6",
   "metadata": {},
   "outputs": [
    {
     "name": "stdout",
     "output_type": "stream",
     "text": [
      "Assuming the second ROI data is correct but using the first allocation the objective would be -0.19200000000000006 (million $) lower than the optimal objective.\n"
     ]
    }
   ],
   "source": [
    "print('Assuming the second ROI data is correct but using the first allocation the objective would be',\n",
    "      sum(obj2 * parta) - bModel.objVal,'(million $) lower than the optimal objective.')"
   ]
  },
  {
   "cell_type": "markdown",
   "id": "91fc85e2",
   "metadata": {},
   "source": [
    "The third constraint (individual allocations must be $\\leq$ $3M), distributes money more evenly making investments less risky."
   ]
  },
  {
   "cell_type": "markdown",
   "id": "37c11691",
   "metadata": {},
   "source": [
    "###   To explore this further perform some analysis of how your optimal allocation would change based on changes in the ROI data.  Use the first ROI data as your starting point.  By how much could each advertising medium’s ROI increase or decrease and still result in the same optimal allocation you found in step (3)?"
   ]
  },
  {
   "cell_type": "code",
   "execution_count": 26,
   "id": "4ce3e3ef",
   "metadata": {},
   "outputs": [
    {
     "name": "stdout",
     "output_type": "stream",
     "text": [
      "Sensitivity Analysis\n"
     ]
    },
    {
     "data": {
      "text/html": [
       "<div>\n",
       "<style scoped>\n",
       "    .dataframe tbody tr th:only-of-type {\n",
       "        vertical-align: middle;\n",
       "    }\n",
       "\n",
       "    .dataframe tbody tr th {\n",
       "        vertical-align: top;\n",
       "    }\n",
       "\n",
       "    .dataframe thead th {\n",
       "        text-align: right;\n",
       "    }\n",
       "</style>\n",
       "<table border=\"1\" class=\"dataframe\">\n",
       "  <thead>\n",
       "    <tr style=\"text-align: right;\">\n",
       "      <th></th>\n",
       "      <th>Starting</th>\n",
       "      <th>Upper Sensitivity</th>\n",
       "      <th>Lower Sensitivity</th>\n",
       "    </tr>\n",
       "    <tr>\n",
       "      <th>Category</th>\n",
       "      <th></th>\n",
       "      <th></th>\n",
       "      <th></th>\n",
       "    </tr>\n",
       "  </thead>\n",
       "  <tbody>\n",
       "    <tr>\n",
       "      <th>Print</th>\n",
       "      <td>0.031</td>\n",
       "      <td>0.049</td>\n",
       "      <td>-inf</td>\n",
       "    </tr>\n",
       "    <tr>\n",
       "      <th>TV</th>\n",
       "      <td>0.049</td>\n",
       "      <td>0.062</td>\n",
       "      <td>0.039</td>\n",
       "    </tr>\n",
       "    <tr>\n",
       "      <th>SEO</th>\n",
       "      <td>0.024</td>\n",
       "      <td>0.039</td>\n",
       "      <td>-inf</td>\n",
       "    </tr>\n",
       "    <tr>\n",
       "      <th>Adwords</th>\n",
       "      <td>0.039</td>\n",
       "      <td>0.046</td>\n",
       "      <td>0.033</td>\n",
       "    </tr>\n",
       "    <tr>\n",
       "      <th>Facebook</th>\n",
       "      <td>0.016</td>\n",
       "      <td>0.029</td>\n",
       "      <td>-inf</td>\n",
       "    </tr>\n",
       "    <tr>\n",
       "      <th>LinkedIn</th>\n",
       "      <td>0.024</td>\n",
       "      <td>0.039</td>\n",
       "      <td>-inf</td>\n",
       "    </tr>\n",
       "    <tr>\n",
       "      <th>Instagram</th>\n",
       "      <td>0.046</td>\n",
       "      <td>inf</td>\n",
       "      <td>0.039</td>\n",
       "    </tr>\n",
       "    <tr>\n",
       "      <th>Snapchat</th>\n",
       "      <td>0.026</td>\n",
       "      <td>0.039</td>\n",
       "      <td>-inf</td>\n",
       "    </tr>\n",
       "    <tr>\n",
       "      <th>Twitter</th>\n",
       "      <td>0.033</td>\n",
       "      <td>0.039</td>\n",
       "      <td>-inf</td>\n",
       "    </tr>\n",
       "    <tr>\n",
       "      <th>Email</th>\n",
       "      <td>0.044</td>\n",
       "      <td>inf</td>\n",
       "      <td>0.029</td>\n",
       "    </tr>\n",
       "  </tbody>\n",
       "</table>\n",
       "</div>"
      ],
      "text/plain": [
       "           Starting  Upper Sensitivity  Lower Sensitivity\n",
       "Category                                                 \n",
       "Print         0.031              0.049               -inf\n",
       "TV            0.049              0.062              0.039\n",
       "SEO           0.024              0.039               -inf\n",
       "Adwords       0.039              0.046              0.033\n",
       "Facebook      0.016              0.029               -inf\n",
       "LinkedIn      0.024              0.039               -inf\n",
       "Instagram     0.046                inf              0.039\n",
       "Snapchat      0.026              0.039               -inf\n",
       "Twitter       0.033              0.039               -inf\n",
       "Email         0.044                inf              0.029"
      ]
     },
     "execution_count": 26,
     "metadata": {},
     "output_type": "execute_result"
    }
   ],
   "source": [
    "#Sensitivity analysis in DF\n",
    "sensitivity = pd.DataFrame({'Category': ['Print','TV','SEO','Adwords','Facebook','LinkedIn','Instagram','Snapchat','Twitter','Email'],\n",
    "                            'Starting': obj,\n",
    "                            'Upper Sensitivity': aModel.SAObjUp,\n",
    "                            'Lower Sensitivity': aModel.SAObjLow\n",
    "    \n",
    "})\n",
    "sensitivity.set_index('Category', inplace = True)\n",
    "print(\"Sensitivity Analysis\")\n",
    "sensitivity"
   ]
  },
  {
   "cell_type": "markdown",
   "id": "9ee049c4",
   "metadata": {},
   "source": [
    "### Your boss has gained permission to reinvest half of the return. For example, if the marketing obtains a 4% return in January, the budget of February will be \\\\$10M + $10M × 4% × 50% = \\\\$10.2M.  The monthly ROI for next year is given in Project1.Rdata. The three constraints given by your boss are still in place for each month.  What is the optimal allocation for each month?"
   ]
  },
  {
   "cell_type": "code",
   "execution_count": 27,
   "id": "ae962903",
   "metadata": {},
   "outputs": [],
   "source": [
    "# Reading in ROI matrix & format\n",
    "ROI_mat = pd.read_csv('roi_mat.csv')    #read in \n",
    "ROI_mat.set_index('Unnamed: 0',inplace=True)    #set index\n",
    "ROI_mat = ROI_mat.div(100)    #make into percentage value"
   ]
  },
  {
   "cell_type": "code",
   "execution_count": 29,
   "id": "01554255",
   "metadata": {},
   "outputs": [],
   "source": [
    "investmentValues = 10 \n",
    "allocations = []\n",
    "return_values = []\n",
    "\n",
    "\n",
    "\n",
    "#For every month\n",
    "for i in range(12):\n",
    "    \n",
    "    obj = np.array(list(ROI.iloc[0])) # objective vector - next row in matrix\n",
    "    A = np.zeros((13,10)) # initialize constraint matrix\n",
    "    A[0:10,:] = np.diag(np.ones(10)) # the amount invested should be no more than $3M\n",
    "    A[10,:] = [1] # total amount cannot exceed a ceratin value\n",
    "    A[11,:] = [1,1,0,0,-1,0,0,0,0,-1] #print and TV should be no more than the amount spent on Facebook and Email\n",
    "    A[12,:] = [0,0,2,2,-1,-1,-1,-1,-1,0] #total amount used in social media should be at least twice of SEO and AdWords\n",
    "    b = np.array([3,3,3,3,3,3,3,3,3,3,investmentValues,0,0]) \n",
    "    sense = np.array(['<']*13) \n",
    "    \n",
    "    Model = gp.Model() # initialize an empty model\n",
    "\n",
    "    ModX = Model.addMVar(10) # tell the model how many variables there are\n",
    "\n",
    "    ModCon = Model.addMConstrs(A, ModX, sense, b) # add the constraints to the model\n",
    "\n",
    "    Model.setMObjective(None,obj,0,sense=gp.GRB.MAXIMIZE) # add the objective to the model...\n",
    "\n",
    "    Model.Params.OutputFlag = 0 # tell gurobi to shut up!!\n",
    "    \n",
    "    Model.optimize()\n",
    "    \n",
    "    allocation_val = ModX.x\n",
    "    return_val = np.dot(allocation_val, ROI_mat.iloc[i])\n",
    "    \n",
    "    return_values.append(return_val)\n",
    "    \n",
    "    investmentValues= investmentValues+(return_val*0.5)   #can invest 10𝑀 + (return × 50%)\n",
    "    \n",
    "    allocations.append(allocation_val)    # record allocations"
   ]
  },
  {
   "cell_type": "code",
   "execution_count": 30,
   "id": "0c3505b2",
   "metadata": {},
   "outputs": [],
   "source": [
    "#Make dataframe for presentation\n",
    "df = pd.DataFrame(allocations)\n",
    "df.columns = ['Print','TV','SEO','Adwords','Facebook','LinkedIn','Instagram','Snapchat','Twitter','Email']\n",
    "df.index = ['January','February','March','April','May','June','July','August','September','October','November','December']\n",
    "df['Total'] = df.T.apply(sum)\n",
    "df['Return'] = return_values"
   ]
  },
  {
   "cell_type": "code",
   "execution_count": 31,
   "id": "cf91058f",
   "metadata": {},
   "outputs": [
    {
     "name": "stdout",
     "output_type": "stream",
     "text": [
      "Allocations for each month (in million $):\n"
     ]
    },
    {
     "data": {
      "text/html": [
       "<div>\n",
       "<style scoped>\n",
       "    .dataframe tbody tr th:only-of-type {\n",
       "        vertical-align: middle;\n",
       "    }\n",
       "\n",
       "    .dataframe tbody tr th {\n",
       "        vertical-align: top;\n",
       "    }\n",
       "\n",
       "    .dataframe thead th {\n",
       "        text-align: right;\n",
       "    }\n",
       "</style>\n",
       "<table border=\"1\" class=\"dataframe\">\n",
       "  <thead>\n",
       "    <tr style=\"text-align: right;\">\n",
       "      <th></th>\n",
       "      <th>Print</th>\n",
       "      <th>TV</th>\n",
       "      <th>SEO</th>\n",
       "      <th>Adwords</th>\n",
       "      <th>Facebook</th>\n",
       "      <th>LinkedIn</th>\n",
       "      <th>Instagram</th>\n",
       "      <th>Snapchat</th>\n",
       "      <th>Twitter</th>\n",
       "      <th>Email</th>\n",
       "      <th>Total</th>\n",
       "      <th>Return</th>\n",
       "    </tr>\n",
       "  </thead>\n",
       "  <tbody>\n",
       "    <tr>\n",
       "      <th>January</th>\n",
       "      <td>0.0</td>\n",
       "      <td>3.0</td>\n",
       "      <td>0.0</td>\n",
       "      <td>1.000000</td>\n",
       "      <td>0.0</td>\n",
       "      <td>0.0</td>\n",
       "      <td>3.0</td>\n",
       "      <td>0.0</td>\n",
       "      <td>0.000000</td>\n",
       "      <td>3.0</td>\n",
       "      <td>10.000000</td>\n",
       "      <td>0.360000</td>\n",
       "    </tr>\n",
       "    <tr>\n",
       "      <th>February</th>\n",
       "      <td>0.0</td>\n",
       "      <td>3.0</td>\n",
       "      <td>0.0</td>\n",
       "      <td>1.180000</td>\n",
       "      <td>0.0</td>\n",
       "      <td>0.0</td>\n",
       "      <td>3.0</td>\n",
       "      <td>0.0</td>\n",
       "      <td>0.000000</td>\n",
       "      <td>3.0</td>\n",
       "      <td>10.180000</td>\n",
       "      <td>0.347840</td>\n",
       "    </tr>\n",
       "    <tr>\n",
       "      <th>March</th>\n",
       "      <td>0.0</td>\n",
       "      <td>3.0</td>\n",
       "      <td>0.0</td>\n",
       "      <td>1.353920</td>\n",
       "      <td>0.0</td>\n",
       "      <td>0.0</td>\n",
       "      <td>3.0</td>\n",
       "      <td>0.0</td>\n",
       "      <td>0.000000</td>\n",
       "      <td>3.0</td>\n",
       "      <td>10.353920</td>\n",
       "      <td>0.324449</td>\n",
       "    </tr>\n",
       "    <tr>\n",
       "      <th>April</th>\n",
       "      <td>0.0</td>\n",
       "      <td>3.0</td>\n",
       "      <td>0.0</td>\n",
       "      <td>1.505381</td>\n",
       "      <td>0.0</td>\n",
       "      <td>0.0</td>\n",
       "      <td>3.0</td>\n",
       "      <td>0.0</td>\n",
       "      <td>0.010763</td>\n",
       "      <td>3.0</td>\n",
       "      <td>10.516144</td>\n",
       "      <td>0.357624</td>\n",
       "    </tr>\n",
       "    <tr>\n",
       "      <th>May</th>\n",
       "      <td>0.0</td>\n",
       "      <td>3.0</td>\n",
       "      <td>0.0</td>\n",
       "      <td>1.564986</td>\n",
       "      <td>0.0</td>\n",
       "      <td>0.0</td>\n",
       "      <td>3.0</td>\n",
       "      <td>0.0</td>\n",
       "      <td>0.129971</td>\n",
       "      <td>3.0</td>\n",
       "      <td>10.694957</td>\n",
       "      <td>0.389058</td>\n",
       "    </tr>\n",
       "    <tr>\n",
       "      <th>June</th>\n",
       "      <td>0.0</td>\n",
       "      <td>3.0</td>\n",
       "      <td>0.0</td>\n",
       "      <td>1.629829</td>\n",
       "      <td>0.0</td>\n",
       "      <td>0.0</td>\n",
       "      <td>3.0</td>\n",
       "      <td>0.0</td>\n",
       "      <td>0.259657</td>\n",
       "      <td>3.0</td>\n",
       "      <td>10.889486</td>\n",
       "      <td>0.419281</td>\n",
       "    </tr>\n",
       "    <tr>\n",
       "      <th>July</th>\n",
       "      <td>0.0</td>\n",
       "      <td>3.0</td>\n",
       "      <td>0.0</td>\n",
       "      <td>1.699709</td>\n",
       "      <td>0.0</td>\n",
       "      <td>0.0</td>\n",
       "      <td>3.0</td>\n",
       "      <td>0.0</td>\n",
       "      <td>0.399418</td>\n",
       "      <td>3.0</td>\n",
       "      <td>11.099126</td>\n",
       "      <td>0.441764</td>\n",
       "    </tr>\n",
       "    <tr>\n",
       "      <th>August</th>\n",
       "      <td>0.0</td>\n",
       "      <td>3.0</td>\n",
       "      <td>0.0</td>\n",
       "      <td>1.773336</td>\n",
       "      <td>0.0</td>\n",
       "      <td>0.0</td>\n",
       "      <td>3.0</td>\n",
       "      <td>0.0</td>\n",
       "      <td>0.546672</td>\n",
       "      <td>3.0</td>\n",
       "      <td>11.320008</td>\n",
       "      <td>0.434534</td>\n",
       "    </tr>\n",
       "    <tr>\n",
       "      <th>September</th>\n",
       "      <td>0.0</td>\n",
       "      <td>3.0</td>\n",
       "      <td>0.0</td>\n",
       "      <td>1.845758</td>\n",
       "      <td>0.0</td>\n",
       "      <td>0.0</td>\n",
       "      <td>3.0</td>\n",
       "      <td>0.0</td>\n",
       "      <td>0.691517</td>\n",
       "      <td>3.0</td>\n",
       "      <td>11.537275</td>\n",
       "      <td>0.375183</td>\n",
       "    </tr>\n",
       "    <tr>\n",
       "      <th>October</th>\n",
       "      <td>0.0</td>\n",
       "      <td>3.0</td>\n",
       "      <td>0.0</td>\n",
       "      <td>1.908289</td>\n",
       "      <td>0.0</td>\n",
       "      <td>0.0</td>\n",
       "      <td>3.0</td>\n",
       "      <td>0.0</td>\n",
       "      <td>0.816578</td>\n",
       "      <td>3.0</td>\n",
       "      <td>11.724866</td>\n",
       "      <td>0.390196</td>\n",
       "    </tr>\n",
       "    <tr>\n",
       "      <th>November</th>\n",
       "      <td>0.0</td>\n",
       "      <td>3.0</td>\n",
       "      <td>0.0</td>\n",
       "      <td>1.973321</td>\n",
       "      <td>0.0</td>\n",
       "      <td>0.0</td>\n",
       "      <td>3.0</td>\n",
       "      <td>0.0</td>\n",
       "      <td>0.946643</td>\n",
       "      <td>3.0</td>\n",
       "      <td>11.919964</td>\n",
       "      <td>0.458252</td>\n",
       "    </tr>\n",
       "    <tr>\n",
       "      <th>December</th>\n",
       "      <td>0.0</td>\n",
       "      <td>3.0</td>\n",
       "      <td>0.0</td>\n",
       "      <td>2.049697</td>\n",
       "      <td>0.0</td>\n",
       "      <td>0.0</td>\n",
       "      <td>3.0</td>\n",
       "      <td>0.0</td>\n",
       "      <td>1.099393</td>\n",
       "      <td>3.0</td>\n",
       "      <td>12.149090</td>\n",
       "      <td>0.424417</td>\n",
       "    </tr>\n",
       "  </tbody>\n",
       "</table>\n",
       "</div>"
      ],
      "text/plain": [
       "           Print   TV  SEO   Adwords  Facebook  LinkedIn  Instagram  Snapchat  \\\n",
       "January      0.0  3.0  0.0  1.000000       0.0       0.0        3.0       0.0   \n",
       "February     0.0  3.0  0.0  1.180000       0.0       0.0        3.0       0.0   \n",
       "March        0.0  3.0  0.0  1.353920       0.0       0.0        3.0       0.0   \n",
       "April        0.0  3.0  0.0  1.505381       0.0       0.0        3.0       0.0   \n",
       "May          0.0  3.0  0.0  1.564986       0.0       0.0        3.0       0.0   \n",
       "June         0.0  3.0  0.0  1.629829       0.0       0.0        3.0       0.0   \n",
       "July         0.0  3.0  0.0  1.699709       0.0       0.0        3.0       0.0   \n",
       "August       0.0  3.0  0.0  1.773336       0.0       0.0        3.0       0.0   \n",
       "September    0.0  3.0  0.0  1.845758       0.0       0.0        3.0       0.0   \n",
       "October      0.0  3.0  0.0  1.908289       0.0       0.0        3.0       0.0   \n",
       "November     0.0  3.0  0.0  1.973321       0.0       0.0        3.0       0.0   \n",
       "December     0.0  3.0  0.0  2.049697       0.0       0.0        3.0       0.0   \n",
       "\n",
       "            Twitter  Email      Total    Return  \n",
       "January    0.000000    3.0  10.000000  0.360000  \n",
       "February   0.000000    3.0  10.180000  0.347840  \n",
       "March      0.000000    3.0  10.353920  0.324449  \n",
       "April      0.010763    3.0  10.516144  0.357624  \n",
       "May        0.129971    3.0  10.694957  0.389058  \n",
       "June       0.259657    3.0  10.889486  0.419281  \n",
       "July       0.399418    3.0  11.099126  0.441764  \n",
       "August     0.546672    3.0  11.320008  0.434534  \n",
       "September  0.691517    3.0  11.537275  0.375183  \n",
       "October    0.816578    3.0  11.724866  0.390196  \n",
       "November   0.946643    3.0  11.919964  0.458252  \n",
       "December   1.099393    3.0  12.149090  0.424417  "
      ]
     },
     "execution_count": 31,
     "metadata": {},
     "output_type": "execute_result"
    }
   ],
   "source": [
    "print('Allocations for each month (in million $):')\n",
    "df"
   ]
  },
  {
   "cell_type": "markdown",
   "id": "1819d0ba",
   "metadata": {},
   "source": [
    "#### A stable budget is defined as a monthly allocation such that for each platform the monthly change in spend is no more than $1M. Is the allocation you found stable? If it isn’t, you do not need to solve a new optimization model.  Describe how my might model this?"
   ]
  },
  {
   "cell_type": "code",
   "execution_count": 32,
   "id": "82f4c9d5",
   "metadata": {},
   "outputs": [],
   "source": [
    "Unstable = (abs(df.diff()) > 1).any(axis=1)\n",
    "df['Unstable'] = Unstable"
   ]
  },
  {
   "cell_type": "code",
   "execution_count": 33,
   "id": "157dde3d",
   "metadata": {},
   "outputs": [
    {
     "data": {
      "text/html": [
       "<div>\n",
       "<style scoped>\n",
       "    .dataframe tbody tr th:only-of-type {\n",
       "        vertical-align: middle;\n",
       "    }\n",
       "\n",
       "    .dataframe tbody tr th {\n",
       "        vertical-align: top;\n",
       "    }\n",
       "\n",
       "    .dataframe thead th {\n",
       "        text-align: right;\n",
       "    }\n",
       "</style>\n",
       "<table border=\"1\" class=\"dataframe\">\n",
       "  <thead>\n",
       "    <tr style=\"text-align: right;\">\n",
       "      <th></th>\n",
       "      <th>Print</th>\n",
       "      <th>TV</th>\n",
       "      <th>SEO</th>\n",
       "      <th>Adwords</th>\n",
       "      <th>Facebook</th>\n",
       "      <th>LinkedIn</th>\n",
       "      <th>Instagram</th>\n",
       "      <th>Snapchat</th>\n",
       "      <th>Twitter</th>\n",
       "      <th>Email</th>\n",
       "      <th>Total</th>\n",
       "      <th>Return</th>\n",
       "      <th>Unstable</th>\n",
       "    </tr>\n",
       "  </thead>\n",
       "  <tbody>\n",
       "    <tr>\n",
       "      <th>January</th>\n",
       "      <td>0.0</td>\n",
       "      <td>3.0</td>\n",
       "      <td>0.0</td>\n",
       "      <td>1.000000</td>\n",
       "      <td>0.0</td>\n",
       "      <td>0.0</td>\n",
       "      <td>3.0</td>\n",
       "      <td>0.0</td>\n",
       "      <td>0.000000</td>\n",
       "      <td>3.0</td>\n",
       "      <td>10.000000</td>\n",
       "      <td>0.360000</td>\n",
       "      <td>Stable</td>\n",
       "    </tr>\n",
       "    <tr>\n",
       "      <th>February</th>\n",
       "      <td>0.0</td>\n",
       "      <td>3.0</td>\n",
       "      <td>0.0</td>\n",
       "      <td>1.180000</td>\n",
       "      <td>0.0</td>\n",
       "      <td>0.0</td>\n",
       "      <td>3.0</td>\n",
       "      <td>0.0</td>\n",
       "      <td>0.000000</td>\n",
       "      <td>3.0</td>\n",
       "      <td>10.180000</td>\n",
       "      <td>0.347840</td>\n",
       "      <td>Stable</td>\n",
       "    </tr>\n",
       "    <tr>\n",
       "      <th>March</th>\n",
       "      <td>0.0</td>\n",
       "      <td>3.0</td>\n",
       "      <td>0.0</td>\n",
       "      <td>1.353920</td>\n",
       "      <td>0.0</td>\n",
       "      <td>0.0</td>\n",
       "      <td>3.0</td>\n",
       "      <td>0.0</td>\n",
       "      <td>0.000000</td>\n",
       "      <td>3.0</td>\n",
       "      <td>10.353920</td>\n",
       "      <td>0.324449</td>\n",
       "      <td>Stable</td>\n",
       "    </tr>\n",
       "    <tr>\n",
       "      <th>April</th>\n",
       "      <td>0.0</td>\n",
       "      <td>3.0</td>\n",
       "      <td>0.0</td>\n",
       "      <td>1.505381</td>\n",
       "      <td>0.0</td>\n",
       "      <td>0.0</td>\n",
       "      <td>3.0</td>\n",
       "      <td>0.0</td>\n",
       "      <td>0.010763</td>\n",
       "      <td>3.0</td>\n",
       "      <td>10.516144</td>\n",
       "      <td>0.357624</td>\n",
       "      <td>Stable</td>\n",
       "    </tr>\n",
       "    <tr>\n",
       "      <th>May</th>\n",
       "      <td>0.0</td>\n",
       "      <td>3.0</td>\n",
       "      <td>0.0</td>\n",
       "      <td>1.564986</td>\n",
       "      <td>0.0</td>\n",
       "      <td>0.0</td>\n",
       "      <td>3.0</td>\n",
       "      <td>0.0</td>\n",
       "      <td>0.129971</td>\n",
       "      <td>3.0</td>\n",
       "      <td>10.694957</td>\n",
       "      <td>0.389058</td>\n",
       "      <td>Stable</td>\n",
       "    </tr>\n",
       "    <tr>\n",
       "      <th>June</th>\n",
       "      <td>0.0</td>\n",
       "      <td>3.0</td>\n",
       "      <td>0.0</td>\n",
       "      <td>1.629829</td>\n",
       "      <td>0.0</td>\n",
       "      <td>0.0</td>\n",
       "      <td>3.0</td>\n",
       "      <td>0.0</td>\n",
       "      <td>0.259657</td>\n",
       "      <td>3.0</td>\n",
       "      <td>10.889486</td>\n",
       "      <td>0.419281</td>\n",
       "      <td>Stable</td>\n",
       "    </tr>\n",
       "    <tr>\n",
       "      <th>July</th>\n",
       "      <td>0.0</td>\n",
       "      <td>3.0</td>\n",
       "      <td>0.0</td>\n",
       "      <td>1.699709</td>\n",
       "      <td>0.0</td>\n",
       "      <td>0.0</td>\n",
       "      <td>3.0</td>\n",
       "      <td>0.0</td>\n",
       "      <td>0.399418</td>\n",
       "      <td>3.0</td>\n",
       "      <td>11.099126</td>\n",
       "      <td>0.441764</td>\n",
       "      <td>Stable</td>\n",
       "    </tr>\n",
       "    <tr>\n",
       "      <th>August</th>\n",
       "      <td>0.0</td>\n",
       "      <td>3.0</td>\n",
       "      <td>0.0</td>\n",
       "      <td>1.773336</td>\n",
       "      <td>0.0</td>\n",
       "      <td>0.0</td>\n",
       "      <td>3.0</td>\n",
       "      <td>0.0</td>\n",
       "      <td>0.546672</td>\n",
       "      <td>3.0</td>\n",
       "      <td>11.320008</td>\n",
       "      <td>0.434534</td>\n",
       "      <td>Stable</td>\n",
       "    </tr>\n",
       "    <tr>\n",
       "      <th>September</th>\n",
       "      <td>0.0</td>\n",
       "      <td>3.0</td>\n",
       "      <td>0.0</td>\n",
       "      <td>1.845758</td>\n",
       "      <td>0.0</td>\n",
       "      <td>0.0</td>\n",
       "      <td>3.0</td>\n",
       "      <td>0.0</td>\n",
       "      <td>0.691517</td>\n",
       "      <td>3.0</td>\n",
       "      <td>11.537275</td>\n",
       "      <td>0.375183</td>\n",
       "      <td>Stable</td>\n",
       "    </tr>\n",
       "    <tr>\n",
       "      <th>October</th>\n",
       "      <td>0.0</td>\n",
       "      <td>3.0</td>\n",
       "      <td>0.0</td>\n",
       "      <td>1.908289</td>\n",
       "      <td>0.0</td>\n",
       "      <td>0.0</td>\n",
       "      <td>3.0</td>\n",
       "      <td>0.0</td>\n",
       "      <td>0.816578</td>\n",
       "      <td>3.0</td>\n",
       "      <td>11.724866</td>\n",
       "      <td>0.390196</td>\n",
       "      <td>Stable</td>\n",
       "    </tr>\n",
       "    <tr>\n",
       "      <th>November</th>\n",
       "      <td>0.0</td>\n",
       "      <td>3.0</td>\n",
       "      <td>0.0</td>\n",
       "      <td>1.973321</td>\n",
       "      <td>0.0</td>\n",
       "      <td>0.0</td>\n",
       "      <td>3.0</td>\n",
       "      <td>0.0</td>\n",
       "      <td>0.946643</td>\n",
       "      <td>3.0</td>\n",
       "      <td>11.919964</td>\n",
       "      <td>0.458252</td>\n",
       "      <td>Stable</td>\n",
       "    </tr>\n",
       "    <tr>\n",
       "      <th>December</th>\n",
       "      <td>0.0</td>\n",
       "      <td>3.0</td>\n",
       "      <td>0.0</td>\n",
       "      <td>2.049697</td>\n",
       "      <td>0.0</td>\n",
       "      <td>0.0</td>\n",
       "      <td>3.0</td>\n",
       "      <td>0.0</td>\n",
       "      <td>1.099393</td>\n",
       "      <td>3.0</td>\n",
       "      <td>12.149090</td>\n",
       "      <td>0.424417</td>\n",
       "      <td>Stable</td>\n",
       "    </tr>\n",
       "  </tbody>\n",
       "</table>\n",
       "</div>"
      ],
      "text/plain": [
       "           Print   TV  SEO   Adwords  Facebook  LinkedIn  Instagram  Snapchat  \\\n",
       "January      0.0  3.0  0.0  1.000000       0.0       0.0        3.0       0.0   \n",
       "February     0.0  3.0  0.0  1.180000       0.0       0.0        3.0       0.0   \n",
       "March        0.0  3.0  0.0  1.353920       0.0       0.0        3.0       0.0   \n",
       "April        0.0  3.0  0.0  1.505381       0.0       0.0        3.0       0.0   \n",
       "May          0.0  3.0  0.0  1.564986       0.0       0.0        3.0       0.0   \n",
       "June         0.0  3.0  0.0  1.629829       0.0       0.0        3.0       0.0   \n",
       "July         0.0  3.0  0.0  1.699709       0.0       0.0        3.0       0.0   \n",
       "August       0.0  3.0  0.0  1.773336       0.0       0.0        3.0       0.0   \n",
       "September    0.0  3.0  0.0  1.845758       0.0       0.0        3.0       0.0   \n",
       "October      0.0  3.0  0.0  1.908289       0.0       0.0        3.0       0.0   \n",
       "November     0.0  3.0  0.0  1.973321       0.0       0.0        3.0       0.0   \n",
       "December     0.0  3.0  0.0  2.049697       0.0       0.0        3.0       0.0   \n",
       "\n",
       "            Twitter  Email      Total    Return Unstable  \n",
       "January    0.000000    3.0  10.000000  0.360000   Stable  \n",
       "February   0.000000    3.0  10.180000  0.347840   Stable  \n",
       "March      0.000000    3.0  10.353920  0.324449   Stable  \n",
       "April      0.010763    3.0  10.516144  0.357624   Stable  \n",
       "May        0.129971    3.0  10.694957  0.389058   Stable  \n",
       "June       0.259657    3.0  10.889486  0.419281   Stable  \n",
       "July       0.399418    3.0  11.099126  0.441764   Stable  \n",
       "August     0.546672    3.0  11.320008  0.434534   Stable  \n",
       "September  0.691517    3.0  11.537275  0.375183   Stable  \n",
       "October    0.816578    3.0  11.724866  0.390196   Stable  \n",
       "November   0.946643    3.0  11.919964  0.458252   Stable  \n",
       "December   1.099393    3.0  12.149090  0.424417   Stable  "
      ]
     },
     "execution_count": 33,
     "metadata": {},
     "output_type": "execute_result"
    }
   ],
   "source": [
    "df['Unstable'].replace({False:'Stable', True:'Unstable'}, inplace=True)\n",
    "df"
   ]
  },
  {
   "cell_type": "code",
   "execution_count": 34,
   "id": "9216ea57",
   "metadata": {},
   "outputs": [
    {
     "name": "stdout",
     "output_type": "stream",
     "text": [
      "The Allocation is stable\n"
     ]
    }
   ],
   "source": [
    "if 'Unstable' in df.Unstable.values:\n",
    "    print(\"The Allocation is Unstable\")\n",
    "else:\n",
    "    print(\"The Allocation is stable\")"
   ]
  },
  {
   "cell_type": "code",
   "execution_count": null,
   "id": "955e03e7",
   "metadata": {},
   "outputs": [],
   "source": []
  },
  {
   "cell_type": "code",
   "execution_count": null,
   "id": "82ceeb44",
   "metadata": {},
   "outputs": [],
   "source": [
    "# Showing difference from one month to the next in dataframe\n",
    "print('Allocation differnces from one month to the next')\n",
    "df.diff()"
   ]
  },
  {
   "cell_type": "markdown",
   "id": "70bbb893",
   "metadata": {},
   "source": [
    "As we can see, allocations do not change more than \\\\$1M dollars from one month to the next. Therefore, the allocation is stable. "
   ]
  }
 ],
 "metadata": {
  "kernelspec": {
   "display_name": "Python 3",
   "language": "python",
   "name": "python3"
  },
  "language_info": {
   "codemirror_mode": {
    "name": "ipython",
    "version": 3
   },
   "file_extension": ".py",
   "mimetype": "text/x-python",
   "name": "python",
   "nbconvert_exporter": "python",
   "pygments_lexer": "ipython3",
   "version": "3.8.8"
  }
 },
 "nbformat": 4,
 "nbformat_minor": 5
}
